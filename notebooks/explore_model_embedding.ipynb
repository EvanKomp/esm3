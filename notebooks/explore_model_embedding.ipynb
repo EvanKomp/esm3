{
 "cells": [
  {
   "cell_type": "markdown",
   "metadata": {},
   "source": [
    "# Explore the embeddings of the entire model when given sequence and structure - can we extract fixed length embeddings\n",
    "\n",
    "This is a user facing intended use case, so should be available easily from the given api"
   ]
  },
  {
   "cell_type": "code",
   "execution_count": 25,
   "metadata": {},
   "outputs": [],
   "source": [
    "from esm.utils.structure.protein_chain import ProteinChain\n",
    "from esm.models.esm3 import ESM3\n",
    "from esm.sdk.api import (\n",
    "    ESMProtein,\n",
    "    ESMProteinTensor,\n",
    "    GenerationConfig,\n",
    "    ForwardConfig\n",
    ")\n",
    "\n",
    "import torch"
   ]
  },
  {
   "cell_type": "code",
   "execution_count": 3,
   "metadata": {},
   "outputs": [
    {
     "data": {
      "application/vnd.jupyter.widget-view+json": {
       "model_id": "dff15df64e204dc690ec9c860efc0b61",
       "version_major": 2,
       "version_minor": 0
      },
      "text/plain": [
       "Fetching 22 files:   0%|          | 0/22 [00:00<?, ?it/s]"
      ]
     },
     "metadata": {},
     "output_type": "display_data"
    }
   ],
   "source": [
    "model = ESM3.from_pretrained(\"esm3_sm_open_v1\", device=torch.device(\"cpu\"))"
   ]
  },
  {
   "cell_type": "markdown",
   "metadata": {},
   "source": [
    "## we do not want to do any embeddings, so this should either be an output of `__forward__` or we will have to construct out own set of calls to the torch modules"
   ]
  },
  {
   "cell_type": "code",
   "execution_count": 4,
   "metadata": {},
   "outputs": [],
   "source": [
    "pdb_id = \"1ITU\" # PDB ID corresponding to Renal Dipeptidase\n",
    "chain_id = \"A\" # Chain ID corresponding to Renal Dipeptidase in the PDB structure\n",
    "example = ProteinChain.from_rcsb(pdb_id, chain_id)"
   ]
  },
  {
   "cell_type": "code",
   "execution_count": 8,
   "metadata": {},
   "outputs": [],
   "source": [
    "example = ESMProtein.from_protein_chain(example, with_annotations=True)"
   ]
  },
  {
   "cell_type": "code",
   "execution_count": 11,
   "metadata": {},
   "outputs": [],
   "source": [
    "config = ForwardConfig(\n",
    "    return_embeddings=True\n",
    ")"
   ]
  },
  {
   "cell_type": "code",
   "execution_count": 23,
   "metadata": {},
   "outputs": [],
   "source": [
    "prompt = model.encode(example)"
   ]
  },
  {
   "cell_type": "code",
   "execution_count": 32,
   "metadata": {},
   "outputs": [],
   "source": [
    "outs = model.forward(\n",
    "\n",
    "    sequence_tokens=prompt.sequence.unsqueeze(0),\n",
    "    structure_tokens=prompt.structure.unsqueeze(0),\n",
    "    ss8_tokens=prompt.secondary_structure.unsqueeze(0),\n",
    "    sasa_tokens=prompt.sasa.unsqueeze(0),\n",
    "    structure_coords=prompt.coordinates.unsqueeze(0),\n",
    ")"
   ]
  },
  {
   "cell_type": "code",
   "execution_count": 33,
   "metadata": {},
   "outputs": [
    {
     "data": {
      "text/plain": [
       "ESMOutput(sequence_logits=tensor([[[-19.8999, -19.8482, -19.7283,  ..., -19.8965, -19.8223, -19.8756],\n",
       "         [-19.7770, -19.7875, -19.7118,  ..., -19.6097, -19.6936, -19.7686],\n",
       "         [-20.8810, -20.8687, -20.8972,  ..., -20.6740, -20.8086, -20.8622],\n",
       "         ...,\n",
       "         [-21.9760, -21.9503, -21.9068,  ..., -21.9945, -21.8641, -21.9197],\n",
       "         [-21.9072, -21.8573, -21.8436,  ..., -21.8125, -21.7358, -21.8285],\n",
       "         [-20.7629, -20.8298, -20.7420,  ..., -20.8609, -20.7464, -20.7786]]],\n",
       "       grad_fn=<ViewBackward0>), structure_logits=tensor([[[20.5455, 17.6710, 22.3964,  ..., 17.8930, 15.7483, 18.1989],\n",
       "         [14.2900, 18.6756, 18.8012,  ..., 19.9908,  5.7742, 13.6581],\n",
       "         [23.2597, 22.9823, 25.4071,  ..., 24.7140, 22.0978, 23.7403],\n",
       "         ...,\n",
       "         [21.6033, 20.2033, 26.9223,  ..., 19.4511, 15.9058, 27.8980],\n",
       "         [25.1001, 18.6467, 29.0939,  ..., 19.5094, 13.6320, 22.2143],\n",
       "         [25.2722, 22.8813, 25.9067,  ..., 23.1652, 19.3094, 17.3553]]],\n",
       "       grad_fn=<ViewBackward0>), secondary_structure_logits=tensor([[[-14.5181, -14.5325, -14.4364,  ...,  -3.7921,   1.9587,   3.5807],\n",
       "         [-14.6876, -14.5787, -14.7320,  ...,  -6.1060,  -6.4227,  13.1919],\n",
       "         [-20.7918, -20.8855, -20.8585,  ...,  -9.4767,  -4.8094,  -1.1237],\n",
       "         ...,\n",
       "         [-17.3393, -17.4010, -17.3985,  ...,  -4.8194,  -2.6163,   5.4014],\n",
       "         [-15.5764, -15.6985, -15.7471,  ...,  -2.9099,  -9.0110,  13.0381],\n",
       "         [-18.1071, -17.9990, -18.0350,  ...,  -3.4209,   3.9593,   2.9736]]],\n",
       "       grad_fn=<ViewBackward0>), sasa_logits=tensor([[[-18.4969, -18.6355, -18.5295,  ...,  -1.3271,  -1.7545,  -1.6248],\n",
       "         [-20.3692, -20.2234, -20.2709,  ...,   8.7596,   9.2750,   9.2690],\n",
       "         [-23.4536, -23.5928, -23.6071,  ...,   6.5980,   9.9247,  10.0500],\n",
       "         ...,\n",
       "         [-27.8330, -27.8120, -27.7560,  ...,   0.4829,  -2.5552,  -6.8863],\n",
       "         [-23.1678, -23.4139, -23.3431,  ...,   3.2011,   1.2212,  -0.7068],\n",
       "         [-18.7045, -18.6082, -18.7071,  ...,  -1.6686,  -2.1612,  -2.8280]]],\n",
       "       grad_fn=<ViewBackward0>), function_logits=tensor([[[[ 2.2495e+00,  2.2787e+00,  2.1592e+00,  ...,  3.0943e+01,\n",
       "            2.6549e+01,  3.0919e+01],\n",
       "          [ 1.8586e+00,  2.0716e+00,  2.0419e+00,  ...,  3.0340e+01,\n",
       "            3.7701e+01,  3.1584e+01],\n",
       "          [ 2.4059e+00,  2.6251e+00,  2.5102e+00,  ...,  3.1457e+01,\n",
       "            3.1776e+01,  3.2620e+01],\n",
       "          ...,\n",
       "          [ 1.1630e+00,  1.0313e+00,  1.1133e+00,  ...,  2.9756e+01,\n",
       "            3.2758e+01,  3.3506e+01],\n",
       "          [ 1.5831e+00,  1.7582e+00,  1.4272e+00,  ...,  2.8476e+01,\n",
       "            3.0619e+01,  4.0234e+01],\n",
       "          [ 2.0383e+00,  1.9590e+00,  2.0974e+00,  ...,  3.4176e+01,\n",
       "            3.5418e+01,  3.2599e+01]],\n",
       "\n",
       "         [[ 7.7615e-03,  1.7603e-01,  4.3190e-02,  ...,  4.7696e+01,\n",
       "            4.7193e+01,  4.8642e+01],\n",
       "          [ 1.7829e-01,  3.1051e-01,  2.5826e-01,  ...,  4.7324e+01,\n",
       "            5.1134e+01,  4.7398e+01],\n",
       "          [ 4.2622e-02,  1.8685e-01,  1.4409e-01,  ...,  5.0566e+01,\n",
       "            4.9844e+01,  5.0628e+01],\n",
       "          ...,\n",
       "          [-2.4804e-01, -4.7765e-01, -3.6623e-01,  ...,  5.0114e+01,\n",
       "            4.9211e+01,  4.9031e+01],\n",
       "          [-8.9953e-02,  8.2705e-02, -1.8734e-01,  ...,  4.7257e+01,\n",
       "            4.8904e+01,  5.6549e+01],\n",
       "          [ 7.4723e-02,  5.3339e-02, -2.1340e-02,  ...,  4.9501e+01,\n",
       "            5.0930e+01,  5.0272e+01]],\n",
       "\n",
       "         [[-2.1455e+00, -2.1163e+00, -2.1962e+00,  ...,  4.5946e+01,\n",
       "            4.4271e+01,  4.6481e+01],\n",
       "          [-2.0682e+00, -1.8964e+00, -1.9012e+00,  ...,  4.5039e+01,\n",
       "            4.9209e+01,  4.6110e+01],\n",
       "          [-2.2239e+00, -2.1142e+00, -2.1440e+00,  ...,  4.8009e+01,\n",
       "            4.7891e+01,  4.7523e+01],\n",
       "          ...,\n",
       "          [-2.5525e+00, -2.7627e+00, -2.6390e+00,  ...,  4.8222e+01,\n",
       "            4.6706e+01,  4.9483e+01],\n",
       "          [-2.4501e+00, -2.2476e+00, -2.5096e+00,  ...,  4.4235e+01,\n",
       "            4.5969e+01,  5.4757e+01],\n",
       "          [-2.1422e+00, -2.1927e+00, -2.2569e+00,  ...,  4.8269e+01,\n",
       "            5.0050e+01,  4.7735e+01]],\n",
       "\n",
       "         ...,\n",
       "\n",
       "         [[ 1.2725e+00,  1.5093e+00,  1.3650e+00,  ...,  6.1496e+01,\n",
       "            6.0978e+01,  6.1407e+01],\n",
       "          [ 1.6441e+00,  1.7279e+00,  1.7087e+00,  ...,  6.0821e+01,\n",
       "            6.1961e+01,  6.0118e+01],\n",
       "          [ 1.1536e+00,  1.3053e+00,  1.1802e+00,  ...,  6.3261e+01,\n",
       "            6.1930e+01,  6.0438e+01],\n",
       "          ...,\n",
       "          [ 1.1175e+00,  1.0018e+00,  1.1398e+00,  ...,  6.4833e+01,\n",
       "            6.1092e+01,  6.2589e+01],\n",
       "          [ 1.3244e+00,  1.4183e+00,  1.2089e+00,  ...,  6.0016e+01,\n",
       "            6.1267e+01,  6.6480e+01],\n",
       "          [ 1.3323e+00,  1.3906e+00,  1.2626e+00,  ...,  6.3372e+01,\n",
       "            6.2384e+01,  6.3642e+01]],\n",
       "\n",
       "         [[ 6.9200e+00,  7.2167e+00,  7.1675e+00,  ...,  7.2044e+01,\n",
       "            7.0722e+01,  7.1946e+01],\n",
       "          [ 7.3973e+00,  7.4193e+00,  7.4036e+00,  ...,  7.1347e+01,\n",
       "            7.0749e+01,  6.9813e+01],\n",
       "          [ 6.6640e+00,  6.8880e+00,  6.7610e+00,  ...,  7.3072e+01,\n",
       "            7.2198e+01,  6.8876e+01],\n",
       "          ...,\n",
       "          [ 6.8392e+00,  6.7811e+00,  6.8196e+00,  ...,  7.4710e+01,\n",
       "            6.9946e+01,  6.9729e+01],\n",
       "          [ 7.0291e+00,  7.0615e+00,  6.8429e+00,  ...,  7.0094e+01,\n",
       "            7.1261e+01,  7.4624e+01],\n",
       "          [ 6.9367e+00,  7.1263e+00,  6.9730e+00,  ...,  7.2676e+01,\n",
       "            7.0733e+01,  7.4149e+01]],\n",
       "\n",
       "         [[ 1.7062e+00,  1.8498e+00,  1.8492e+00,  ...,  4.1020e+01,\n",
       "            3.9808e+01,  4.1458e+01],\n",
       "          [ 1.6310e+00,  1.8717e+00,  1.6763e+00,  ...,  4.1364e+01,\n",
       "            4.4812e+01,  4.2056e+01],\n",
       "          [ 1.6602e+00,  1.9541e+00,  1.8395e+00,  ...,  4.3861e+01,\n",
       "            4.4270e+01,  4.3537e+01],\n",
       "          ...,\n",
       "          [ 8.2225e-01,  7.5269e-01,  7.8562e-01,  ...,  4.2631e+01,\n",
       "            4.1043e+01,  4.2804e+01],\n",
       "          [ 1.5356e+00,  1.6581e+00,  1.4362e+00,  ...,  4.0546e+01,\n",
       "            4.3395e+01,  5.0239e+01],\n",
       "          [ 1.6377e+00,  1.6415e+00,  1.5298e+00,  ...,  4.1555e+01,\n",
       "            4.4387e+01,  4.4427e+01]]]], grad_fn=<ViewBackward0>), residue_logits=tensor([[[ 1.6045e-01,  3.5520e-03, -1.9541e-01,  ..., -1.5252e+01,\n",
       "          -1.5618e+01, -1.4228e+01],\n",
       "         [ 2.3498e-02, -4.0930e-01, -7.1793e-01,  ..., -1.5966e+01,\n",
       "          -1.7194e+01, -1.5166e+01],\n",
       "         [ 1.4852e-01, -9.2767e-02, -2.6699e-01,  ..., -1.6533e+01,\n",
       "          -1.6735e+01, -1.4943e+01],\n",
       "         ...,\n",
       "         [-3.7435e-01, -3.0047e-01, -2.3603e-01,  ..., -1.6266e+01,\n",
       "          -1.6249e+01, -1.3320e+01],\n",
       "         [-6.7053e-01, -2.7976e-01, -2.4867e-02,  ..., -1.6390e+01,\n",
       "          -1.6629e+01, -1.2158e+01],\n",
       "         [-1.2906e-01, -1.4849e-01, -1.9515e-01,  ..., -1.4793e+01,\n",
       "          -1.4973e+01, -1.4009e+01]]], grad_fn=<ViewBackward0>), embeddings=tensor([[[  78.7552,   67.9289,  -85.4995,  ...,  -18.0893, -132.3478,\n",
       "           133.4730],\n",
       "         [ 220.6242, -214.9268,  136.1875,  ...,  -78.3840, -252.3579,\n",
       "          -149.8165],\n",
       "         [ 109.0398,   69.3004,  234.0218,  ..., -134.4773,  -49.7252,\n",
       "            89.5608],\n",
       "         ...,\n",
       "         [-120.0330,  162.8394,  335.2926,  ..., -357.5054, -231.1440,\n",
       "          -120.2987],\n",
       "         [ 111.4494,  -58.8798,  222.5788,  ...,  -31.1518,  171.4944,\n",
       "           -24.6662],\n",
       "         [ -47.8035,   40.7489,  109.3024,  ...,  -78.0313,  -47.4900,\n",
       "           195.2320]]], grad_fn=<AddBackward0>))"
      ]
     },
     "execution_count": 33,
     "metadata": {},
     "output_type": "execute_result"
    }
   ],
   "source": [
    "outs"
   ]
  },
  {
   "cell_type": "code",
   "execution_count": 39,
   "metadata": {},
   "outputs": [
    {
     "data": {
      "text/plain": [
       "torch.Size([1, 371, 1536])"
      ]
     },
     "execution_count": 39,
     "metadata": {},
     "output_type": "execute_result"
    }
   ],
   "source": [
    "outs.embeddings.shape"
   ]
  },
  {
   "cell_type": "markdown",
   "metadata": {},
   "source": [
    "## embeddings is in the base output! Good on them"
   ]
  },
  {
   "cell_type": "markdown",
   "metadata": {},
   "source": []
  }
 ],
 "metadata": {
  "kernelspec": {
   "display_name": "esm3",
   "language": "python",
   "name": "python3"
  },
  "language_info": {
   "codemirror_mode": {
    "name": "ipython",
    "version": 3
   },
   "file_extension": ".py",
   "mimetype": "text/x-python",
   "name": "python",
   "nbconvert_exporter": "python",
   "pygments_lexer": "ipython3",
   "version": "3.10.14"
  }
 },
 "nbformat": 4,
 "nbformat_minor": 2
}
